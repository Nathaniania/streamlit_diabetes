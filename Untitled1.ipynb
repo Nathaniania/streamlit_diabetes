{
  "nbformat": 4,
  "nbformat_minor": 0,
  "metadata": {
    "colab": {
      "provenance": [],
      "authorship_tag": "ABX9TyP8/OCg7c1zxPfBX3DrVdJt",
      "include_colab_link": true
    },
    "kernelspec": {
      "name": "python3",
      "display_name": "Python 3"
    },
    "language_info": {
      "name": "python"
    }
  },
  "cells": [
    {
      "cell_type": "markdown",
      "metadata": {
        "id": "view-in-github",
        "colab_type": "text"
      },
      "source": [
        "<a href=\"https://colab.research.google.com/github/Nathaniania/streamlit_diabetes/blob/main/Untitled1.ipynb\" target=\"_parent\"><img src=\"https://colab.research.google.com/assets/colab-badge.svg\" alt=\"Open In Colab\"/></a>"
      ]
    },
    {
      "cell_type": "code",
      "execution_count": 1,
      "metadata": {
        "colab": {
          "base_uri": "https://localhost:8080/"
        },
        "id": "bp_N0ypAkeKE",
        "outputId": "e51cb840-fd03-4fb4-96e5-3b752c3182d9"
      },
      "outputs": [
        {
          "output_type": "stream",
          "name": "stdout",
          "text": [
            "3\n",
            "4\n",
            "5.5\n"
          ]
        }
      ],
      "source": [
        "a = 3\n",
        "b = 4\n",
        "c = 5.5\n",
        "print (a)\n",
        "print (b)\n",
        "print (c)"
      ]
    },
    {
      "cell_type": "markdown",
      "source": [
        "Variable jenis angka dan string"
      ],
      "metadata": {
        "id": "GstKE-3ApKe9"
      }
    },
    {
      "cell_type": "code",
      "source": [
        "d = '8'\n",
        "e = 'ini adalah angla'\n",
        "print (d)\n",
        "print (e)"
      ],
      "metadata": {
        "colab": {
          "base_uri": "https://localhost:8080/"
        },
        "id": "R_YUFeCvpT0E",
        "outputId": "5ea5048e-740b-4f59-c0ce-83c3602f6d7f"
      },
      "execution_count": 2,
      "outputs": [
        {
          "output_type": "stream",
          "name": "stdout",
          "text": [
            "8\n",
            "ini adalah angla\n"
          ]
        }
      ]
    },
    {
      "cell_type": "code",
      "source": [
        "print (a+int(d))"
      ],
      "metadata": {
        "colab": {
          "base_uri": "https://localhost:8080/"
        },
        "id": "jzDqIePzp0Ae",
        "outputId": "2a7412be-9265-404d-fc71-65a24dc9aa7a"
      },
      "execution_count": 3,
      "outputs": [
        {
          "output_type": "stream",
          "name": "stdout",
          "text": [
            "11\n"
          ]
        }
      ]
    },
    {
      "cell_type": "code",
      "source": [
        "print (str(a)+d)"
      ],
      "metadata": {
        "colab": {
          "base_uri": "https://localhost:8080/"
        },
        "id": "A2-UeFSyqCK2",
        "outputId": "8ad9651d-0f99-4ab8-e24b-618b1f99fce9"
      },
      "execution_count": 5,
      "outputs": [
        {
          "output_type": "stream",
          "name": "stdout",
          "text": [
            "38\n"
          ]
        }
      ]
    },
    {
      "cell_type": "code",
      "source": [
        "print (e+str(a))"
      ],
      "metadata": {
        "colab": {
          "base_uri": "https://localhost:8080/"
        },
        "id": "g7-XOH-gqOnO",
        "outputId": "a4085268-7bf5-4ac2-aaca-dbe1f010ff0e"
      },
      "execution_count": 6,
      "outputs": [
        {
          "output_type": "stream",
          "name": "stdout",
          "text": [
            "ini adalah angla3\n"
          ]
        }
      ]
    },
    {
      "cell_type": "code",
      "source": [
        "print (a+c)\n",
        "print (a*c)\n",
        "print (a-c)\n",
        "print (a/c)\n"
      ],
      "metadata": {
        "colab": {
          "base_uri": "https://localhost:8080/"
        },
        "id": "bcx_QZlKqW2K",
        "outputId": "dbf0fcb1-6ef9-4ede-a53e-3f0ae82747e6"
      },
      "execution_count": 8,
      "outputs": [
        {
          "output_type": "stream",
          "name": "stdout",
          "text": [
            "8.5\n",
            "16.5\n",
            "-2.5\n",
            "0.5454545454545454\n"
          ]
        }
      ]
    },
    {
      "cell_type": "markdown",
      "source": [
        "import numpy as np"
      ],
      "metadata": {
        "id": "MuQlAduAsARj"
      }
    },
    {
      "cell_type": "code",
      "source": [
        "x = [1, 2, 3 ,4]"
      ],
      "metadata": {
        "id": "w_sCeVVpsEot"
      },
      "execution_count": 10,
      "outputs": []
    },
    {
      "cell_type": "code",
      "source": [
        "x = [1, 2, 3 ,4]"
      ],
      "metadata": {
        "id": "sp6v15PrshnO"
      },
      "execution_count": 11,
      "outputs": []
    },
    {
      "cell_type": "code",
      "source": [
        "print (x)"
      ],
      "metadata": {
        "colab": {
          "base_uri": "https://localhost:8080/"
        },
        "id": "dvGKxJFsskeQ",
        "outputId": "d423c41a-037a-4fbd-d078-cf43ceee487f"
      },
      "execution_count": 21,
      "outputs": [
        {
          "output_type": "stream",
          "name": "stdout",
          "text": [
            "[1, 2, 3, 4]\n"
          ]
        }
      ]
    },
    {
      "cell_type": "code",
      "source": [
        "np.array(x)\n",
        "x = [1, 2, 3, 4]"
      ],
      "metadata": {
        "id": "AV5tToMUuqN_"
      },
      "execution_count": 22,
      "outputs": []
    },
    {
      "cell_type": "code",
      "source": [
        "y = [[2, 3, 4], [6, 7, 8]]\n",
        "print (y)"
      ],
      "metadata": {
        "colab": {
          "base_uri": "https://localhost:8080/"
        },
        "id": "_oLnhtDVvMEM",
        "outputId": "801d7a03-ca42-49b5-d8e3-63ce1063b8ae"
      },
      "execution_count": 23,
      "outputs": [
        {
          "output_type": "stream",
          "name": "stdout",
          "text": [
            "[[2, 3, 4], [6, 7, 8]]\n"
          ]
        }
      ]
    },
    {
      "cell_type": "code",
      "source": [
        "np.array(y)"
      ],
      "metadata": {
        "colab": {
          "base_uri": "https://localhost:8080/"
        },
        "id": "vCv1rDrWvmTr",
        "outputId": "0a2dcf29-5ad1-44c3-e2d1-f6614ded7c13"
      },
      "execution_count": 24,
      "outputs": [
        {
          "output_type": "execute_result",
          "data": {
            "text/plain": [
              "array([[2, 3, 4],\n",
              "       [6, 7, 8]])"
            ]
          },
          "metadata": {},
          "execution_count": 24
        }
      ]
    },
    {
      "cell_type": "code",
      "source": [
        "np.shape(x)"
      ],
      "metadata": {
        "colab": {
          "base_uri": "https://localhost:8080/"
        },
        "id": "qZeQw_E7vuvP",
        "outputId": "9f415381-4159-4bd3-b076-62079084f3a9"
      },
      "execution_count": 25,
      "outputs": [
        {
          "output_type": "execute_result",
          "data": {
            "text/plain": [
              "(4,)"
            ]
          },
          "metadata": {},
          "execution_count": 25
        }
      ]
    },
    {
      "cell_type": "code",
      "source": [
        "z = [[2], [3], [4]]\n",
        "print (z)"
      ],
      "metadata": {
        "colab": {
          "base_uri": "https://localhost:8080/"
        },
        "id": "uBM73iqHwOgB",
        "outputId": "542b5f8e-c9ab-488c-cd97-f0146ec6849c"
      },
      "execution_count": 26,
      "outputs": [
        {
          "output_type": "stream",
          "name": "stdout",
          "text": [
            "[[2], [3], [4]]\n"
          ]
        }
      ]
    },
    {
      "cell_type": "code",
      "source": [
        "np.shape(z)"
      ],
      "metadata": {
        "colab": {
          "base_uri": "https://localhost:8080/"
        },
        "id": "xPSL4O5dwkdV",
        "outputId": "5fa8dd46-f4f8-4fe5-943f-1f56a3ce261a"
      },
      "execution_count": 27,
      "outputs": [
        {
          "output_type": "execute_result",
          "data": {
            "text/plain": [
              "(3, 1)"
            ]
          },
          "metadata": {},
          "execution_count": 27
        }
      ]
    },
    {
      "cell_type": "code",
      "source": [
        "y1 = np.array(y)\n",
        "print (y)\n",
        "print (y1)"
      ],
      "metadata": {
        "colab": {
          "base_uri": "https://localhost:8080/"
        },
        "id": "IlV_t4pcw-F4",
        "outputId": "150f9cd8-2a8a-4915-a0c9-f48873eee1b1"
      },
      "execution_count": 30,
      "outputs": [
        {
          "output_type": "stream",
          "name": "stdout",
          "text": [
            "[[2, 3, 4], [6, 7, 8]]\n",
            "[[2 3 4]\n",
            " [6 7 8]]\n"
          ]
        }
      ]
    },
    {
      "cell_type": "code",
      "source": [
        "z1 = np.array(z)\n",
        "print (z)\n",
        "print (np.shape(z))\n",
        "print (z1)\n",
        "print (np.shape(z1))"
      ],
      "metadata": {
        "colab": {
          "base_uri": "https://localhost:8080/"
        },
        "id": "BiylXOgaxblP",
        "outputId": "4d88a73e-34cb-4aca-96c5-a9e87bf37a7b"
      },
      "execution_count": 31,
      "outputs": [
        {
          "output_type": "stream",
          "name": "stdout",
          "text": [
            "[[2], [3], [4]]\n",
            "(3, 1)\n",
            "[[2]\n",
            " [3]\n",
            " [4]]\n",
            "(3, 1)\n"
          ]
        }
      ]
    },
    {
      "cell_type": "code",
      "source": [
        "x1 = np.array(x)\n",
        "x2 = np.reshape(x1,(1,4))\n",
        "print (x)\n",
        "print (np.shape(x))\n",
        "print (x1)\n",
        "print (np.shape(x1))\n",
        "print (x2)\n",
        "print (np.shape(x2))"
      ],
      "metadata": {
        "colab": {
          "base_uri": "https://localhost:8080/"
        },
        "id": "EMWbHCu9x3Zg",
        "outputId": "10f22ab3-3a00-4df9-a37a-cf1c74745582"
      },
      "execution_count": 34,
      "outputs": [
        {
          "output_type": "stream",
          "name": "stdout",
          "text": [
            "[1, 2, 3, 4]\n",
            "(4,)\n",
            "[1 2 3 4]\n",
            "(4,)\n",
            "[[1 2 3 4]]\n",
            "(1, 4)\n"
          ]
        }
      ]
    },
    {
      "cell_type": "code",
      "source": [
        "sumbu_x = np.arange(0,11)\n",
        "print (sumbu_x)"
      ],
      "metadata": {
        "colab": {
          "base_uri": "https://localhost:8080/"
        },
        "id": "x3SHJzHozgBT",
        "outputId": "4d9df14e-9194-4864-ab27-c7b98a7a8e08"
      },
      "execution_count": 37,
      "outputs": [
        {
          "output_type": "stream",
          "name": "stdout",
          "text": [
            "[ 0  1  2  3  4  5  6  7  8  9 10]\n"
          ]
        }
      ]
    },
    {
      "cell_type": "code",
      "source": [
        "sumbu_x1 = np.arange(0,11,2)\n",
        "print (sumbu_x1)"
      ],
      "metadata": {
        "colab": {
          "base_uri": "https://localhost:8080/"
        },
        "id": "pSPgWusm05l5",
        "outputId": "3cb2c35c-c33c-4952-aaf7-c958231fc8bb"
      },
      "execution_count": 38,
      "outputs": [
        {
          "output_type": "stream",
          "name": "stdout",
          "text": [
            "[ 0  2  4  6  8 10]\n"
          ]
        }
      ]
    },
    {
      "cell_type": "code",
      "source": [
        "sumbu_x3 = np.linspace(0,11,24,False)\n",
        "print (sumbu_x3)"
      ],
      "metadata": {
        "colab": {
          "base_uri": "https://localhost:8080/"
        },
        "id": "xfFCbHUX1ByG",
        "outputId": "f5352a93-f4e7-4d34-e1d8-5a4e90ef17b1"
      },
      "execution_count": 40,
      "outputs": [
        {
          "output_type": "stream",
          "name": "stdout",
          "text": [
            "[ 0.          0.45833333  0.91666667  1.375       1.83333333  2.29166667\n",
            "  2.75        3.20833333  3.66666667  4.125       4.58333333  5.04166667\n",
            "  5.5         5.95833333  6.41666667  6.875       7.33333333  7.79166667\n",
            "  8.25        8.70833333  9.16666667  9.625      10.08333333 10.54166667]\n"
          ]
        }
      ]
    }
  ]
}